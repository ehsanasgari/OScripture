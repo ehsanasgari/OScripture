{
 "cells": [
  {
   "cell_type": "code",
   "execution_count": null,
   "metadata": {},
   "outputs": [],
   "source": [
    "from alignment.fastalign_utility import FastAlignUtility\n",
    "import string\n",
    "import tqdm\n",
    "\n",
    "translate_table = dict((ord(char), None) for char in list(string.punctuation))\n",
    "verses_dict=dict([('##'.join(l.split('|')[0:2]),l.split('|')[2]) for l in FileUtility.load_list('EngArb/quran/quran-simple-clean.txt')[0:6236]])\n",
    "verses=[l.split('|')[2] for l in FileUtility.load_list('EngArb/quran/quran-simple-clean.txt')[0:6236]]\n",
    "translations=[]\n",
    "for trfile in tqdm.tqdm(FileUtility.recursive_glob('EngArb/quran/','en.*')):\n",
    "    try:\n",
    "        translations.append([l.split('|')[2].translate(translate_table) for l in FileUtility.load_list(trfile)[0:6236]])\n",
    "    except:\n",
    "        print('problem with ',trfile)\n",
    "final_corpus=[]\n",
    "for tr in translations:\n",
    "    final_corpus+=[' ||| '.join([tr[idx],arb_v]) for idx,arb_v in enumerate(verses)]\n",
    "FileUtility.save_list('EngArb/quran/merged_parallel_qurans.txt',final_corpus)\n",
    "FastAlignUtility.run_fastalign_file('EngArb/quran/merged_parallel_qurans.txt','output/')\n",
    "FastAlignUtility.generate_word_alignemnts('EngArb/quran/merged_parallel_qurans.txt','output/merged_parallel_qurans_fwd.align','output/merged_parallel_qurans_fwd.txt')"
   ]
  }
 ],
 "metadata": {
  "kernelspec": {
   "display_name": "Python 3.6",
   "language": "python",
   "name": "python_3.6"
  },
  "language_info": {
   "codemirror_mode": {
    "name": "ipython",
    "version": 3
   },
   "file_extension": ".py",
   "mimetype": "text/x-python",
   "name": "python",
   "nbconvert_exporter": "python",
   "pygments_lexer": "ipython3",
   "version": "3.6.5"
  }
 },
 "nbformat": 4,
 "nbformat_minor": 2
}
